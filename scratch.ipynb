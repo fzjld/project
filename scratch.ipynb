{
 "cells": [
  {
   "cell_type": "code",
   "execution_count": 1,
   "metadata": {},
   "outputs": [],
   "source": [
    "from smarts.core.observations import Observation, EgoVehicleObservation, VehicleObservation, RoadWaypoints\n",
    "from smarts.core.events import Events\n",
    "from smarts.core.road_map import Waypoint\n",
    "import pickle"
   ]
  },
  {
   "cell_type": "code",
   "execution_count": 3,
   "metadata": {},
   "outputs": [],
   "source": [
    "class A():\n",
    "    height: float\n",
    "    weight: float\n",
    "    def __hash__(self) -> int:\n",
    "        return hash((self.height, self.weight))"
   ]
  },
  {
   "cell_type": "code",
   "execution_count": 4,
   "metadata": {},
   "outputs": [],
   "source": [
    "a = A()"
   ]
  },
  {
   "cell_type": "code",
   "execution_count": 2,
   "metadata": {},
   "outputs": [],
   "source": [
    "e1 = Events(collisions=True, off_road=True, off_route=True, on_shoulder=True, wrong_way=True, not_moving=False, reached_goal=False, reached_max_episode_steps=False, agents_alive_done=False, interest_done=False)"
   ]
  },
  {
   "cell_type": "code",
   "execution_count": 11,
   "metadata": {},
   "outputs": [
    {
     "ename": "TypeError",
     "evalue": "__init__() missing 1 required positional argument: 'goal'",
     "output_type": "error",
     "traceback": [
      "\u001b[0;31m---------------------------------------------------------------------------\u001b[0m",
      "\u001b[0;31mTypeError\u001b[0m                                 Traceback (most recent call last)",
      "Cell \u001b[0;32mIn[11], line 6\u001b[0m\n\u001b[1;32m      4\u001b[0m h \u001b[38;5;241m=\u001b[39m Heading(\u001b[38;5;241m1.1\u001b[39m)\n\u001b[1;32m      5\u001b[0m r \u001b[38;5;241m=\u001b[39m RefLinePoint(\u001b[38;5;241m1\u001b[39m, \u001b[38;5;241m1\u001b[39m, \u001b[38;5;241m1\u001b[39m)\n\u001b[0;32m----> 6\u001b[0m n \u001b[38;5;241m=\u001b[39m \u001b[43mNavigationMission\u001b[49m\u001b[43m(\u001b[49m\u001b[43mstart\u001b[49m\u001b[38;5;241;43m=\u001b[39;49m\u001b[43mStart\u001b[49m\u001b[43m(\u001b[49m\u001b[38;5;241;43m1\u001b[39;49m\u001b[43m,\u001b[49m\u001b[38;5;241;43m1\u001b[39;49m\u001b[43m,\u001b[49m\u001b[38;5;241;43m1\u001b[39;49m\u001b[43m)\u001b[49m\u001b[43m)\u001b[49m\n",
      "\u001b[0;31mTypeError\u001b[0m: __init__() missing 1 required positional argument: 'goal'"
     ]
    }
   ],
   "source": [
    "from smarts.core.coordinates import Dimensions, Heading, RefLinePoint\n",
    "from smarts.core.plan import NavigationMission, Start\n",
    "d = Dimensions(10, 10, 10)\n",
    "h = Heading(1.1)\n",
    "r = RefLinePoint(1, 1, 1)\n",
    "n = NavigationMission(start=Start(position=(1, 1, 1), heading=1.5), goal=(1, 1, 1))"
   ]
  },
  {
   "cell_type": "code",
   "execution_count": null,
   "metadata": {},
   "outputs": [],
   "source": [
    "\n",
    "e2 = EgoVehicleObservation(id=1, angular_acceleration=(1,1,1), angular_jerk=(1,1,1), angular_velocity=(1,1,1), \n",
    "                           bounding_box=d, heading=h, lane_id=10, lane_index=9, lane_position=r, linear_acceleration=(10,10,10), \n",
    "                           linear_jerk=(9,9,9), linear_velocity=(8,8,8), mission=, position=(1,1,1), road_id=10,speed=30, steering=100,yaw_rate=10)"
   ]
  },
  {
   "cell_type": "code",
   "execution_count": null,
   "metadata": {},
   "outputs": [],
   "source": []
  },
  {
   "cell_type": "code",
   "execution_count": 1,
   "metadata": {},
   "outputs": [
    {
     "ename": "NameError",
     "evalue": "name 'Observation' is not defined",
     "output_type": "error",
     "traceback": [
      "\u001b[0;31m---------------------------------------------------------------------------\u001b[0m",
      "\u001b[0;31mNameError\u001b[0m                                 Traceback (most recent call last)",
      "Cell \u001b[0;32mIn[1], line 1\u001b[0m\n\u001b[0;32m----> 1\u001b[0m o1 \u001b[38;5;241m=\u001b[39m \u001b[43mObservation\u001b[49m()\n",
      "\u001b[0;31mNameError\u001b[0m: name 'Observation' is not defined"
     ]
    }
   ],
   "source": [
    "o1 = Observation(dt=0.1, step_count=3, steps_completed=3, elapsed_sim_time=20, events=e1, under_this_agent_control=True, )"
   ]
  }
 ],
 "metadata": {
  "kernelspec": {
   "display_name": "smarts",
   "language": "python",
   "name": "python3"
  },
  "language_info": {
   "codemirror_mode": {
    "name": "ipython",
    "version": 3
   },
   "file_extension": ".py",
   "mimetype": "text/x-python",
   "name": "python",
   "nbconvert_exporter": "python",
   "pygments_lexer": "ipython3",
   "version": "3.8.19"
  }
 },
 "nbformat": 4,
 "nbformat_minor": 2
}
